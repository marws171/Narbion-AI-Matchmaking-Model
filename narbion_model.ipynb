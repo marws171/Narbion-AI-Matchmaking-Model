{
  "nbformat": 4,
  "nbformat_minor": 0,
  "metadata": {
    "colab": {
      "provenance": []
    },
    "kernelspec": {
      "name": "python3",
      "display_name": "Python 3"
    },
    "language_info": {
      "name": "python"
    }
  },
  "cells": [
    {
      "cell_type": "code",
      "source": [
        "from google.colab import drive\n",
        "drive.mount('/content/drive')\n"
      ],
      "metadata": {
        "id": "pOHReJ7HMvxS",
        "collapsed": true
      },
      "execution_count": null,
      "outputs": []
    },
    {
      "cell_type": "code",
      "source": [
        "import pandas as pd\n",
        "import numpy as np\n",
        "from sklearn.preprocessing import MinMaxScaler, OneHotEncoder\n",
        "from sklearn.metrics.pairwise import cosine_similarity\n",
        "\n",
        "df = pd.read_csv(\"/content/drive/MyDrive/players_data_full_realistic.csv\")\n",
        "\n",
        "target_player_id = df.iloc[59][\"Player_ID\"]\n",
        "target_player = df[df[\"Player_ID\"] == target_player_id].iloc[0]\n",
        "\n",
        "filtered_df = df[df[\"Sport\"] == target_player[\"Sport\"]].copy()\n",
        "filtered_df = filtered_df[filtered_df[\"Player_ID\"] != target_player_id]\n",
        "\n",
        "numeric_features = [\"Age\", \"Hours_Available\"]\n",
        "categorical_features = [\n",
        "    \"City\", \"Neighborhood\", \"Skill_Level\", \"Competitive_Level\",\n",
        "    \"Available_Days\", \"Available_Times\"\n",
        "]\n",
        "\n",
        "scaler = MinMaxScaler()\n",
        "scaled_numeric = scaler.fit_transform(filtered_df[numeric_features])\n",
        "\n",
        "encoder = OneHotEncoder(sparse_output=False, handle_unknown=\"ignore\")\n",
        "encoded_cats = encoder.fit_transform(filtered_df[categorical_features])\n",
        "\n",
        "full_data = np.hstack([scaled_numeric, encoded_cats])\n",
        "\n",
        "target_numeric = scaler.transform([target_player[numeric_features]])\n",
        "target_cats = encoder.transform([target_player[categorical_features]])\n",
        "target_full = np.hstack([target_numeric, target_cats])\n",
        "\n",
        "similarities = cosine_similarity(target_full.reshape(1, -1), full_data)[0]\n",
        "filtered_df[\"Similarity\"] = similarities\n",
        "\n",
        "top_matches = filtered_df.sort_values(by=\"Similarity\", ascending=False).head(5)\n",
        "\n",
        "print(\"أفضل المنافسين للاعب:\", target_player[\"Player_Name\"])\n",
        "print(top_matches[[\n",
        "    \"Player_ID\", \"Player_Name\", \"Sport\", \"Skill_Level\", \"Neighborhood\",\n",
        "    \"Available_Days\", \"Available_Times\", \"Similarity\"\n",
        "]])\n"
      ],
      "metadata": {
        "id": "5kULulEeby8k"
      },
      "execution_count": null,
      "outputs": []
    },
    {
      "cell_type": "code",
      "source": [
        "import pandas as pd\n",
        "import numpy as np\n",
        "from sklearn.preprocessing import MinMaxScaler, OneHotEncoder\n",
        "from tensorflow.keras.models import Sequential\n",
        "from tensorflow.keras.layers import Dense, Dropout\n",
        "from tensorflow.keras.optimizers import Adam\n",
        "from sklearn.model_selection import train_test_split\n",
        "\n",
        "df = pd.read_csv(\"/content/drive/MyDrive/players_data_full_realistic.csv\")\n",
        "\n",
        "target_player_id = df.iloc[59][\"Player_ID\"]\n",
        "target_player = df[df[\"Player_ID\"] == target_player_id].iloc[0]\n",
        "\n",
        "filtered_df = df[(df[\"Sport\"] == target_player[\"Sport\"]) &\n",
        "                 (df[\"Gender\"] == target_player[\"Gender\"]) &\n",
        "                 (df[\"City\"] == target_player[\"City\"])].copy()\n",
        "filtered_df = filtered_df[filtered_df[\"Player_ID\"] != target_player_id]\n",
        "\n",
        "numeric_features = [\"Age\", \"Hours_Available\"]\n",
        "categorical_features = [\n",
        "    \"City\", \"Neighborhood\", \"Skill_Level\", \"Competitive_Level\",\n",
        "    \"Available_Days\", \"Available_Times\", \"Gender\"\n",
        "]\n",
        "\n",
        "scaler = MinMaxScaler()\n",
        "scaled_numeric = scaler.fit_transform(filtered_df[numeric_features])\n",
        "\n",
        "encoder = OneHotEncoder(sparse_output=False, handle_unknown=\"ignore\")\n",
        "encoded_cats = encoder.fit_transform(filtered_df[categorical_features])\n",
        "\n",
        "full_data = np.hstack([scaled_numeric, encoded_cats])\n",
        "\n",
        "target_numeric = scaler.transform([target_player[numeric_features]])\n",
        "target_cats = encoder.transform([target_player[categorical_features]])\n",
        "target_full = np.hstack([target_numeric, target_cats])\n",
        "\n",
        "X = full_data\n",
        "y = np.ones(full_data.shape[0])\n",
        "\n",
        "X_train, X_test, y_train, y_test = train_test_split(X, y, test_size=0.2, random_state=42)\n",
        "\n",
        "model = Sequential()\n",
        "model.add(Dense(128, input_dim=X.shape[1], activation='relu'))\n",
        "model.add(Dropout(0.2))\n",
        "model.add(Dense(64, activation='relu'))\n",
        "model.add(Dense(32, activation='relu'))\n",
        "model.add(Dense(1, activation='sigmoid'))\n",
        "\n",
        "model.compile(optimizer=Adam(), loss='binary_crossentropy', metrics=['accuracy'])\n",
        "\n",
        "model.fit(X_train, y_train, epochs=10, batch_size=32, validation_data=(X_test, y_test))\n",
        "\n",
        "predictions = model.predict(X)\n",
        "\n",
        "filtered_df[\"Predicted_Similarity\"] = predictions\n",
        "\n",
        "top_matches = filtered_df.sort_values(by=\"Predicted_Similarity\", ascending=False).head(5)\n",
        "\n",
        "print(\"أفضل المنافسين للاعب:\", target_player[\"Player_Name\"])\n",
        "print(top_matches[[\n",
        "    \"Player_ID\", \"Player_Name\", \"Sport\", \"Skill_Level\", \"City\", \"Neighborhood\",\n",
        "    \"Available_Days\", \"Available_Times\", \"Gender\", \"Predicted_Similarity\"\n",
        "]])\n"
      ],
      "metadata": {
        "id": "iDUGiiwQelxc"
      },
      "execution_count": null,
      "outputs": []
    }
  ]
}