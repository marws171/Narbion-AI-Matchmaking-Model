{
  "nbformat": 4,
  "nbformat_minor": 0,
  "metadata": {
    "colab": {
      "provenance": []
    },
    "kernelspec": {
      "name": "python3",
      "display_name": "Python 3"
    },
    "language_info": {
      "name": "python"
    }
  },
  "cells": [
    {
      "cell_type": "code",
      "source": [
        "from google.colab import drive\n",
        "drive.mount('/content/drive')\n"
      ],
      "metadata": {
        "colab": {
          "base_uri": "https://localhost:8080/"
        },
        "id": "pOHReJ7HMvxS",
        "outputId": "5684b6a8-0197-4a11-c75f-bf51331aca08"
      },
      "execution_count": null,
      "outputs": [
        {
          "output_type": "stream",
          "name": "stdout",
          "text": [
            "Mounted at /content/drive\n"
          ]
        }
      ]
    },
    {
      "cell_type": "code",
      "source": [
        "import pandas as pd\n",
        "import numpy as np\n",
        "from sklearn.preprocessing import MinMaxScaler, OneHotEncoder\n",
        "from sklearn.metrics.pairwise import cosine_similarity\n",
        "\n",
        "df = pd.read_csv(\"/content/drive/MyDrive/players_data_full_realistic.csv\")\n",
        "\n",
        "target_player_id = df.iloc[59][\"Player_ID\"]\n",
        "target_player = df[df[\"Player_ID\"] == target_player_id].iloc[0]\n",
        "\n",
        "filtered_df = df[df[\"Sport\"] == target_player[\"Sport\"]].copy()\n",
        "filtered_df = filtered_df[filtered_df[\"Player_ID\"] != target_player_id]\n",
        "\n",
        "numeric_features = [\"Age\", \"Hours_Available\"]\n",
        "categorical_features = [\n",
        "    \"City\", \"Neighborhood\", \"Skill_Level\", \"Competitive_Level\",\n",
        "    \"Available_Days\", \"Available_Times\"\n",
        "]\n",
        "\n",
        "scaler = MinMaxScaler()\n",
        "scaled_numeric = scaler.fit_transform(filtered_df[numeric_features])\n",
        "\n",
        "encoder = OneHotEncoder(sparse_output=False, handle_unknown=\"ignore\")\n",
        "encoded_cats = encoder.fit_transform(filtered_df[categorical_features])\n",
        "\n",
        "full_data = np.hstack([scaled_numeric, encoded_cats])\n",
        "\n",
        "target_numeric = scaler.transform([target_player[numeric_features]])\n",
        "target_cats = encoder.transform([target_player[categorical_features]])\n",
        "target_full = np.hstack([target_numeric, target_cats])\n",
        "\n",
        "similarities = cosine_similarity(target_full.reshape(1, -1), full_data)[0]\n",
        "filtered_df[\"Similarity\"] = similarities\n",
        "\n",
        "top_matches = filtered_df.sort_values(by=\"Similarity\", ascending=False).head(5)\n",
        "\n",
        "print(\"أفضل المنافسين للاعب:\", target_player[\"Player_Name\"])\n",
        "print(top_matches[[\n",
        "    \"Player_ID\", \"Player_Name\", \"Sport\", \"Skill_Level\", \"Neighborhood\",\n",
        "    \"Available_Days\", \"Available_Times\", \"Similarity\"\n",
        "]])\n"
      ],
      "metadata": {
        "colab": {
          "base_uri": "https://localhost:8080/"
        },
        "id": "5kULulEeby8k",
        "outputId": "feb3064f-a304-4096-dd68-1b8627e5c753"
      },
      "execution_count": null,
      "outputs": [
        {
          "output_type": "stream",
          "name": "stdout",
          "text": [
            "أفضل المنافسين للاعب: أحمد الهاجري\n",
            "     Player_ID    Player_Name Sport Skill_Level Neighborhood  \\\n",
            "8569  ID_18569   تركي الخثعمي  بادل       مبتدئ   بطحاء قريش   \n",
            "4895  ID_14895     ريم الحربي  بادل       مبتدئ      الشوقية   \n",
            "1276  ID_11276   ماجد الخثعمي  بادل       مبتدئ     العقربية   \n",
            "8620  ID_18620  جواهر العسيري  بادل       محترف       الزاهر   \n",
            "5921  ID_15921    ناصر العنزي  بادل       مبتدئ    الجامعيين   \n",
            "\n",
            "                Available_Days Available_Times  Similarity  \n",
            "8569                  الأربعاء          صباحًا    0.706306  \n",
            "4895   الخميس, السبت, الثلاثاء   صباحًا, مساءً    0.702520  \n",
            "1276           الأحد, الأربعاء          صباحًا    0.575058  \n",
            "8620  الأحد, الاثنين, الثلاثاء          صباحًا    0.575058  \n",
            "5921   الأربعاء, الأحد, الخميس          صباحًا    0.572986  \n"
          ]
        },
        {
          "output_type": "stream",
          "name": "stderr",
          "text": [
            "/usr/local/lib/python3.11/dist-packages/sklearn/utils/validation.py:2739: UserWarning: X does not have valid feature names, but MinMaxScaler was fitted with feature names\n",
            "  warnings.warn(\n",
            "/usr/local/lib/python3.11/dist-packages/sklearn/utils/validation.py:2739: UserWarning: X does not have valid feature names, but OneHotEncoder was fitted with feature names\n",
            "  warnings.warn(\n"
          ]
        }
      ]
    },
    {
      "cell_type": "code",
      "source": [
        "import pandas as pd\n",
        "import numpy as np\n",
        "from sklearn.preprocessing import MinMaxScaler, OneHotEncoder\n",
        "from tensorflow.keras.models import Sequential\n",
        "from tensorflow.keras.layers import Dense, Dropout\n",
        "from tensorflow.keras.optimizers import Adam\n",
        "from sklearn.model_selection import train_test_split\n",
        "\n",
        "df = pd.read_csv(\"/content/drive/MyDrive/players_data_full_realistic.csv\")\n",
        "\n",
        "target_player_id = df.iloc[59][\"Player_ID\"]\n",
        "target_player = df[df[\"Player_ID\"] == target_player_id].iloc[0]\n",
        "\n",
        "filtered_df = df[(df[\"Sport\"] == target_player[\"Sport\"]) &\n",
        "                 (df[\"Gender\"] == target_player[\"Gender\"]) &\n",
        "                 (df[\"City\"] == target_player[\"City\"])].copy()\n",
        "filtered_df = filtered_df[filtered_df[\"Player_ID\"] != target_player_id]\n",
        "\n",
        "numeric_features = [\"Age\", \"Hours_Available\"]\n",
        "categorical_features = [\n",
        "    \"City\", \"Neighborhood\", \"Skill_Level\", \"Competitive_Level\",\n",
        "    \"Available_Days\", \"Available_Times\", \"Gender\"\n",
        "]\n",
        "\n",
        "scaler = MinMaxScaler()\n",
        "scaled_numeric = scaler.fit_transform(filtered_df[numeric_features])\n",
        "\n",
        "encoder = OneHotEncoder(sparse_output=False, handle_unknown=\"ignore\")\n",
        "encoded_cats = encoder.fit_transform(filtered_df[categorical_features])\n",
        "\n",
        "full_data = np.hstack([scaled_numeric, encoded_cats])\n",
        "\n",
        "target_numeric = scaler.transform([target_player[numeric_features]])\n",
        "target_cats = encoder.transform([target_player[categorical_features]])\n",
        "target_full = np.hstack([target_numeric, target_cats])\n",
        "\n",
        "X = full_data\n",
        "y = np.ones(full_data.shape[0])\n",
        "\n",
        "X_train, X_test, y_train, y_test = train_test_split(X, y, test_size=0.2, random_state=42)\n",
        "\n",
        "model = Sequential()\n",
        "model.add(Dense(128, input_dim=X.shape[1], activation='relu'))\n",
        "model.add(Dropout(0.2))\n",
        "model.add(Dense(64, activation='relu'))\n",
        "model.add(Dense(32, activation='relu'))\n",
        "model.add(Dense(1, activation='sigmoid'))\n",
        "\n",
        "model.compile(optimizer=Adam(), loss='binary_crossentropy', metrics=['accuracy'])\n",
        "\n",
        "model.fit(X_train, y_train, epochs=10, batch_size=32, validation_data=(X_test, y_test))\n",
        "\n",
        "predictions = model.predict(X)\n",
        "\n",
        "filtered_df[\"Predicted_Similarity\"] = predictions\n",
        "\n",
        "top_matches = filtered_df.sort_values(by=\"Predicted_Similarity\", ascending=False).head(5)\n",
        "\n",
        "print(\"أفضل المنافسين للاعب:\", target_player[\"Player_Name\"])\n",
        "print(top_matches[[\n",
        "    \"Player_ID\", \"Player_Name\", \"Sport\", \"Skill_Level\", \"City\", \"Neighborhood\",\n",
        "    \"Available_Days\", \"Available_Times\", \"Gender\", \"Predicted_Similarity\"\n",
        "]])\n"
      ],
      "metadata": {
        "colab": {
          "base_uri": "https://localhost:8080/"
        },
        "id": "iDUGiiwQelxc",
        "outputId": "62380a2f-5abf-4c49-a628-066e323c545d"
      },
      "execution_count": null,
      "outputs": [
        {
          "output_type": "stream",
          "name": "stdout",
          "text": [
            "Epoch 1/10\n"
          ]
        },
        {
          "output_type": "stream",
          "name": "stderr",
          "text": [
            "/usr/local/lib/python3.11/dist-packages/sklearn/utils/validation.py:2739: UserWarning: X does not have valid feature names, but MinMaxScaler was fitted with feature names\n",
            "  warnings.warn(\n",
            "/usr/local/lib/python3.11/dist-packages/sklearn/utils/validation.py:2739: UserWarning: X does not have valid feature names, but OneHotEncoder was fitted with feature names\n",
            "  warnings.warn(\n",
            "/usr/local/lib/python3.11/dist-packages/keras/src/layers/core/dense.py:87: UserWarning: Do not pass an `input_shape`/`input_dim` argument to a layer. When using Sequential models, prefer using an `Input(shape)` object as the first layer in the model instead.\n",
            "  super().__init__(activity_regularizer=activity_regularizer, **kwargs)\n"
          ]
        },
        {
          "output_type": "stream",
          "name": "stdout",
          "text": [
            "\u001b[1m2/2\u001b[0m \u001b[32m━━━━━━━━━━━━━━━━━━━━\u001b[0m\u001b[37m\u001b[0m \u001b[1m3s\u001b[0m 502ms/step - accuracy: 0.5021 - loss: 0.6928 - val_accuracy: 1.0000 - val_loss: 0.6454\n",
            "Epoch 2/10\n",
            "\u001b[1m2/2\u001b[0m \u001b[32m━━━━━━━━━━━━━━━━━━━━\u001b[0m\u001b[37m\u001b[0m \u001b[1m0s\u001b[0m 268ms/step - accuracy: 0.9354 - loss: 0.6403 - val_accuracy: 1.0000 - val_loss: 0.5907\n",
            "Epoch 3/10\n",
            "\u001b[1m2/2\u001b[0m \u001b[32m━━━━━━━━━━━━━━━━━━━━\u001b[0m\u001b[37m\u001b[0m \u001b[1m0s\u001b[0m 113ms/step - accuracy: 1.0000 - loss: 0.5828 - val_accuracy: 1.0000 - val_loss: 0.5305\n",
            "Epoch 4/10\n",
            "\u001b[1m2/2\u001b[0m \u001b[32m━━━━━━━━━━━━━━━━━━━━\u001b[0m\u001b[37m\u001b[0m \u001b[1m0s\u001b[0m 115ms/step - accuracy: 1.0000 - loss: 0.5334 - val_accuracy: 1.0000 - val_loss: 0.4680\n",
            "Epoch 5/10\n",
            "\u001b[1m2/2\u001b[0m \u001b[32m━━━━━━━━━━━━━━━━━━━━\u001b[0m\u001b[37m\u001b[0m \u001b[1m0s\u001b[0m 179ms/step - accuracy: 1.0000 - loss: 0.4591 - val_accuracy: 1.0000 - val_loss: 0.4028\n",
            "Epoch 6/10\n",
            "\u001b[1m2/2\u001b[0m \u001b[32m━━━━━━━━━━━━━━━━━━━━\u001b[0m\u001b[37m\u001b[0m \u001b[1m0s\u001b[0m 138ms/step - accuracy: 1.0000 - loss: 0.3934 - val_accuracy: 1.0000 - val_loss: 0.3365\n",
            "Epoch 7/10\n",
            "\u001b[1m2/2\u001b[0m \u001b[32m━━━━━━━━━━━━━━━━━━━━\u001b[0m\u001b[37m\u001b[0m \u001b[1m0s\u001b[0m 64ms/step - accuracy: 1.0000 - loss: 0.3252 - val_accuracy: 1.0000 - val_loss: 0.2721\n",
            "Epoch 8/10\n",
            "\u001b[1m2/2\u001b[0m \u001b[32m━━━━━━━━━━━━━━━━━━━━\u001b[0m\u001b[37m\u001b[0m \u001b[1m0s\u001b[0m 64ms/step - accuracy: 1.0000 - loss: 0.2699 - val_accuracy: 1.0000 - val_loss: 0.2111\n",
            "Epoch 9/10\n",
            "\u001b[1m2/2\u001b[0m \u001b[32m━━━━━━━━━━━━━━━━━━━━\u001b[0m\u001b[37m\u001b[0m \u001b[1m0s\u001b[0m 64ms/step - accuracy: 1.0000 - loss: 0.1982 - val_accuracy: 1.0000 - val_loss: 0.1565\n",
            "Epoch 10/10\n",
            "\u001b[1m2/2\u001b[0m \u001b[32m━━━━━━━━━━━━━━━━━━━━\u001b[0m\u001b[37m\u001b[0m \u001b[1m0s\u001b[0m 64ms/step - accuracy: 1.0000 - loss: 0.1553 - val_accuracy: 1.0000 - val_loss: 0.1103\n",
            "\u001b[1m3/3\u001b[0m \u001b[32m━━━━━━━━━━━━━━━━━━━━\u001b[0m\u001b[37m\u001b[0m \u001b[1m0s\u001b[0m 30ms/step\n",
            "أفضل المنافسين للاعب: أحمد الهاجري\n",
            "     Player_ID   Player_Name Sport Skill_Level City Neighborhood  \\\n",
            "7137  ID_17137   علي الغامدي  بادل       محترف  مكة   بطحاء قريش   \n",
            "4827  ID_14827    هند العنبر  بادل       محترف  مكة      الكعكية   \n",
            "31    ID_10031  ريم الشمراني  بادل       محترف  مكة       الزاهر   \n",
            "2674  ID_12674   حسن الدوسري  بادل       محترف  مكة      الكعكية   \n",
            "3250  ID_13250   ناصر العنزي  بادل       محترف  مكة       الزاهر   \n",
            "\n",
            "                        Available_Days       Available_Times Gender  \\\n",
            "7137                   الجمعة, الاثنين          مساءً, عصرًا    ذكر   \n",
            "4827  الأربعاء, الخميس, السبت, الاثنين   عصرًا, ظهرًا, ليلاً    ذكر   \n",
            "31                       الأحد, الخميس  صباحًا, ليلاً, ظهرًا    ذكر   \n",
            "2674         الأربعاء, السبت, الثلاثاء  صباحًا, مساءً, ظهرًا    ذكر   \n",
            "3250          الثلاثاء, الاثنين, الأحد          مساءً, عصرًا    ذكر   \n",
            "\n",
            "      Predicted_Similarity  \n",
            "7137              0.956909  \n",
            "4827              0.947271  \n",
            "31                0.941283  \n",
            "2674              0.940612  \n",
            "3250              0.939082  \n"
          ]
        }
      ]
    }
  ]
}